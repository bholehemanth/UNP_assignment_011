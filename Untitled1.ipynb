{
 "cells": [
  {
   "cell_type": "code",
   "execution_count": 3,
   "id": "f3d0226f",
   "metadata": {},
   "outputs": [
    {
     "ename": "NameError",
     "evalue": "name 'proportions_ztest' is not defined",
     "output_type": "error",
     "traceback": [
      "\u001b[1;31m---------------------------------------------------------------------------\u001b[0m",
      "\u001b[1;31mNameError\u001b[0m                                 Traceback (most recent call last)",
      "\u001b[1;32m<ipython-input-3-96003178bbd3>\u001b[0m in \u001b[0;36m<module>\u001b[1;34m\u001b[0m\n\u001b[1;32m----> 1\u001b[1;33m \u001b[0mstat\u001b[0m\u001b[1;33m,\u001b[0m\u001b[0mp_value\u001b[0m\u001b[1;33m=\u001b[0m\u001b[0mproportions_ztest\u001b[0m\u001b[1;33m(\u001b[0m\u001b[0mcount\u001b[0m\u001b[1;33m=\u001b[0m\u001b[1;36m350\u001b[0m\u001b[1;33m,\u001b[0m\u001b[0mnobs\u001b[0m\u001b[1;33m=\u001b[0m\u001b[1;36m600\u001b[0m\u001b[1;33m,\u001b[0m\u001b[0mvalue\u001b[0m\u001b[1;33m=\u001b[0m\u001b[1;36m0.5\u001b[0m\u001b[1;33m,\u001b[0m\u001b[0malternative\u001b[0m\u001b[1;33m=\u001b[0m\u001b[1;34m'larger'\u001b[0m\u001b[1;33m)\u001b[0m\u001b[1;33m\u001b[0m\u001b[1;33m\u001b[0m\u001b[0m\n\u001b[0m\u001b[0;32m      2\u001b[0m \u001b[0mstat\u001b[0m\u001b[1;33m,\u001b[0m\u001b[0mp_value\u001b[0m\u001b[1;33m\u001b[0m\u001b[1;33m\u001b[0m\u001b[0m\n\u001b[0;32m      3\u001b[0m \u001b[1;32mif\u001b[0m \u001b[0mp_value\u001b[0m\u001b[1;33m>\u001b[0m\u001b[1;36m0.05\u001b[0m\u001b[1;33m:\u001b[0m\u001b[1;33m\u001b[0m\u001b[1;33m\u001b[0m\u001b[0m\n\u001b[0;32m      4\u001b[0m     \u001b[0mprint\u001b[0m\u001b[1;33m(\u001b[0m\u001b[1;34m'accept H0'\u001b[0m\u001b[1;33m)\u001b[0m\u001b[1;33m\u001b[0m\u001b[1;33m\u001b[0m\u001b[0m\n\u001b[0;32m      5\u001b[0m \u001b[1;32melse\u001b[0m\u001b[1;33m:\u001b[0m\u001b[1;33m\u001b[0m\u001b[1;33m\u001b[0m\u001b[0m\n",
      "\u001b[1;31mNameError\u001b[0m: name 'proportions_ztest' is not defined"
     ]
    }
   ],
   "source": [
    "stat,p_value=proportions_ztest(count=350,nobs=600,value=0.5,alternative='larger')\n",
    "stat,p_value\n",
    "if p_value>0.05:\n",
    "    print('accept H0')\n",
    "else:\n",
    "    print('reject H0')\n"
   ]
  },
  {
   "cell_type": "code",
   "execution_count": 14,
   "id": "80bbe00e",
   "metadata": {},
   "outputs": [
    {
     "ename": "NameError",
     "evalue": "name 'Thereisnosignificancedifferencebetweenvegandnonveg' is not defined",
     "output_type": "error",
     "traceback": [
      "\u001b[1;31m---------------------------------------------------------------------------\u001b[0m",
      "\u001b[1;31mNameError\u001b[0m                                 Traceback (most recent call last)",
      "\u001b[1;32m<ipython-input-14-d1800c5a0c0c>\u001b[0m in \u001b[0;36m<module>\u001b[1;34m\u001b[0m\n\u001b[1;32m----> 1\u001b[1;33m \u001b[0mH0\u001b[0m\u001b[1;33m=\u001b[0m\u001b[0mThereisnosignificancedifferencebetweenvegandnonveg\u001b[0m\u001b[1;33m\u001b[0m\u001b[1;33m\u001b[0m\u001b[0m\n\u001b[0m\u001b[0;32m      2\u001b[0m \u001b[0mH1\u001b[0m\u001b[1;33m=\u001b[0m\u001b[0mMajorityisveg\u001b[0m\u001b[1;33m\u001b[0m\u001b[1;33m\u001b[0m\u001b[0m\n\u001b[0;32m      3\u001b[0m \u001b[1;32mimport\u001b[0m \u001b[0mnumpy\u001b[0m \u001b[1;32mas\u001b[0m \u001b[0mnp\u001b[0m\u001b[1;33m\u001b[0m\u001b[1;33m\u001b[0m\u001b[0m\n\u001b[0;32m      4\u001b[0m \u001b[1;32mimport\u001b[0m \u001b[0mpandas\u001b[0m \u001b[1;32mas\u001b[0m \u001b[0mpd\u001b[0m\u001b[1;33m\u001b[0m\u001b[1;33m\u001b[0m\u001b[0m\n\u001b[0;32m      5\u001b[0m \u001b[1;32mfrom\u001b[0m \u001b[0mstatsmodel\u001b[0m\u001b[1;33m.\u001b[0m\u001b[0mstats\u001b[0m\u001b[1;33m.\u001b[0m\u001b[0mproportion\u001b[0m \u001b[1;32mimport\u001b[0m \u001b[0mproportions_ztest\u001b[0m\u001b[1;33m\u001b[0m\u001b[1;33m\u001b[0m\u001b[0m\n",
      "\u001b[1;31mNameError\u001b[0m: name 'Thereisnosignificancedifferencebetweenvegandnonveg' is not defined"
     ]
    }
   ],
   "source": [
    "H0=Thereisnosignificancedifferencebetweenvegandnonveg\n",
    "H1=Majorityisveg\n",
    "import numpy as np\n",
    "import pandas as pd\n",
    "from statsmodel.stats.proportion import proportions_ztest\n",
    "\n",
    "#given\n",
    "significance=0.05\n",
    "sample_size=600\n",
    "no_of_vegetarians=350\n",
    "null_hypothsis=0.5\n",
    "\n",
    "stat,p_value=proportions_ztest(count=350,nobs=600,value=0.5,alternative='larger')\n",
    "stat,p_value\n",
    "if p_value>0.05:\n",
    "    print('accept H0')\n",
    "else:\n",
    "    print('reject H0')\n",
    "\n"
   ]
  },
  {
   "cell_type": "code",
   "execution_count": 19,
   "id": "48e35202",
   "metadata": {},
   "outputs": [
    {
     "name": "stdout",
     "output_type": "stream",
     "text": [
      "Accept H0\n"
     ]
    }
   ],
   "source": [
    "# Large sample test for difference of proportions\n",
    "\n",
    "import numpy as np\n",
    "import pandas as pd\n",
    "from statsmodels.stats.proportion import proportions_ztest\n",
    "stat, p_value = proportions_ztest(count = np.array([350, 260]), nobs = np.array([600,\n",
    "500]), alternative = 'two-sided')\n",
    "stat, p_value\n",
    "if p_value > 0.01:\n",
    "    print(\"Accept H0\")\n",
    "else:\n",
    "    print(\"Reject H0\")"
   ]
  },
  {
   "cell_type": "code",
   "execution_count": null,
   "id": "fff7d1ff",
   "metadata": {},
   "outputs": [],
   "source": []
  }
 ],
 "metadata": {
  "kernelspec": {
   "display_name": "Python 3",
   "language": "python",
   "name": "python3"
  },
  "language_info": {
   "codemirror_mode": {
    "name": "ipython",
    "version": 3
   },
   "file_extension": ".py",
   "mimetype": "text/x-python",
   "name": "python",
   "nbconvert_exporter": "python",
   "pygments_lexer": "ipython3",
   "version": "3.8.8"
  }
 },
 "nbformat": 4,
 "nbformat_minor": 5
}
